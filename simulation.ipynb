{
 "cells": [
  {
   "cell_type": "markdown",
   "metadata": {},
   "source": [
    "## Question\n",
    "\n",
    "How many times should we roll a dice to get six at least once?"
   ]
  },
  {
   "cell_type": "code",
   "execution_count": 8,
   "metadata": {},
   "outputs": [],
   "source": [
    "import numpy as np\n",
    "import matplotlib.pyplot as plt\n",
    "import random\n",
    "import math\n",
    "\n",
    "def experiment():\n",
    "\n",
    "    count = 0\n",
    "\n",
    "    while True:\n",
    "        count += 1\n",
    "\n",
    "        dice = random.randint(1, 6)\n",
    "\n",
    "        if dice == 6:\n",
    "            return count\n",
    "\n",
    "counts = []\n",
    "\n",
    "for i in range(100000):\n",
    "    counts.append(experiment())"
   ]
  },
  {
   "cell_type": "code",
   "execution_count": 14,
   "metadata": {},
   "outputs": [
    {
     "data": {
      "text/plain": [
       "6.01447"
      ]
     },
     "execution_count": 14,
     "metadata": {},
     "output_type": "execute_result"
    }
   ],
   "source": [
    "counts = np.array(counts)\n",
    "\n",
    "np.mean(counts)"
   ]
  },
  {
   "cell_type": "markdown",
   "metadata": {},
   "source": [
    "## Question\n",
    "\n",
    "How many times should we roll a dice to get 3 sixes in a row?"
   ]
  },
  {
   "cell_type": "code",
   "execution_count": 15,
   "metadata": {},
   "outputs": [],
   "source": [
    "import numpy as np\n",
    "import matplotlib.pyplot as plt\n",
    "import random\n",
    "import math\n",
    "\n",
    "def experiment():\n",
    "\n",
    "    count = 0\n",
    "    sixes_cnt = 0\n",
    "    while True:\n",
    "        count += 1\n",
    "\n",
    "        dice = random.randint(1, 6)\n",
    "\n",
    "        if dice == 6:\n",
    "            sixes_cnt += 1\n",
    "            if sixes_cnt == 3:\n",
    "                return count\n",
    "        else:\n",
    "            sixes_cnt = 0\n",
    "\n",
    "counts = []\n",
    "\n",
    "for i in range(100000):\n",
    "    counts.append(experiment())"
   ]
  },
  {
   "cell_type": "code",
   "execution_count": 16,
   "metadata": {},
   "outputs": [
    {
     "data": {
      "text/plain": [
       "257.26708"
      ]
     },
     "execution_count": 16,
     "metadata": {},
     "output_type": "execute_result"
    }
   ],
   "source": [
    "counts = np.array(counts)\n",
    "\n",
    "np.mean(counts)"
   ]
  },
  {
   "cell_type": "code",
   "execution_count": null,
   "metadata": {},
   "outputs": [],
   "source": []
  }
 ],
 "metadata": {
  "kernelspec": {
   "display_name": "venv",
   "language": "python",
   "name": "python3"
  },
  "language_info": {
   "codemirror_mode": {
    "name": "ipython",
    "version": 3
   },
   "file_extension": ".py",
   "mimetype": "text/x-python",
   "name": "python",
   "nbconvert_exporter": "python",
   "pygments_lexer": "ipython3",
   "version": "3.10.1"
  }
 },
 "nbformat": 4,
 "nbformat_minor": 2
}
